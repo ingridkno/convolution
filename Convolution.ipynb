{
 "cells": [
  {
   "cell_type": "markdown",
   "metadata": {},
   "source": [
    "# Convolution\n",
    "\n",
    "Notre Dame and me singing A Dream is a Wish Your Heart Makes"
   ]
  },
  {
   "cell_type": "code",
   "execution_count": null,
   "metadata": {},
   "outputs": [],
   "source": [
    "%matplotlib inline\n",
    "import matplotlib.pyplot as plt\n",
    "import numpy as np\n",
    "\n",
    "import librosa\n",
    "\n",
    "from IPython.display import Audio\n",
    "import librosa.display\n",
    "\n",
    "\n",
    "fname='a dream is a wish you heart makes.wav'\n",
    "#xn\n",
    "x, sr=librosa.load(fname, sr=None, mono=True)#padrao sampre rate 22,5KHz\n",
    "print(sr)\n",
    "Audio(x, rate=sr)"
   ]
  },
  {
   "cell_type": "code",
   "execution_count": null,
   "metadata": {},
   "outputs": [],
   "source": [
    "fname='notredame_ir.flac'\n",
    "\n",
    "#yn\n",
    "h, sr=librosa.load(fname, sr=None, mono=True)#padrao sampre rate 22,5KHz\n",
    "print(sr)\n",
    "Audio(h, rate=sr)"
   ]
  },
  {
   "cell_type": "code",
   "execution_count": null,
   "metadata": {},
   "outputs": [],
   "source": [
    "#sinal convoluido na notre dame\n",
    "\n",
    "y = np.convolve(h,x)\n",
    "\n",
    "Audio(y, rate=sr)"
   ]
  },
  {
   "cell_type": "code",
   "execution_count": null,
   "metadata": {},
   "outputs": [],
   "source": [
    "# sinal com valores de A de 0 a 1\n",
    "# x é sinal sem reverb e y o convoluido\n",
    "\n",
    "A=0.1\n",
    "\n",
    "z = A*x + (1-A)*y[:len(x)]\n",
    "\n",
    "Audio(z, rate=sr)"
   ]
  },
  {
   "cell_type": "code",
   "execution_count": null,
   "metadata": {},
   "outputs": [],
   "source": [
    "# sinal com valores de A de 0 a 1\n",
    "A=0.5\n",
    "\n",
    "z = A*x + (1-A)*y[:len(x)]\n",
    "\n",
    "Audio(z, rate=sr)"
   ]
  },
  {
   "cell_type": "code",
   "execution_count": null,
   "metadata": {},
   "outputs": [],
   "source": [
    "# sinal com valores de A de 0 a 1\n",
    "\n",
    "A=0.9\n",
    "\n",
    "z = A*x + (1-A)*y[:len(x)]\n",
    "\n",
    "Audio(z, rate=sr)"
   ]
  },
  {
   "cell_type": "code",
   "execution_count": null,
   "metadata": {},
   "outputs": [],
   "source": [
    "#atrase ou adiante y[n] e veja como o sinal se comporta\n",
    "\n",
    "# sinal com valores de A de 0 a 1\n",
    "A=0.7\n",
    "\n",
    "t_delay = 2.4 #tmpo de atraso\n",
    "\n",
    "n=int(sr*t_delay)\n",
    "\n",
    "zeros = np.zeros(n)\n",
    "x_with_zeros = np.concatenate((x, zeros), axis=0)\n",
    "y_delayed=np.concatenate((zeros,y[:len(x)]), axis=0)\n",
    "z=A*x_with_zeros + (1-A)*y_delayed\n",
    "\n",
    "Audio(z, rate=sr)"
   ]
  },
  {
   "cell_type": "code",
   "execution_count": null,
   "metadata": {},
   "outputs": [],
   "source": [
    "#inverter o sinal y e escutar\n",
    "\n",
    "y_n=y[::-1]\n",
    "\n",
    "Audio(y_n, rate=sr)"
   ]
  },
  {
   "cell_type": "code",
   "execution_count": null,
   "metadata": {},
   "outputs": [],
   "source": [
    "# sinal com valores de A de 0 a 1 com sinal invertido\n",
    "A=0.7\n",
    "\n",
    "z = A*x + (1-A)*y_n[:len(x)]\n",
    "\n",
    "Audio(z, rate=sr)"
   ]
  }
 ],
 "metadata": {
  "kernelspec": {
   "display_name": "Python 3",
   "language": "python",
   "name": "python3"
  },
  "language_info": {
   "codemirror_mode": {
    "name": "ipython",
    "version": 3
   },
   "file_extension": ".py",
   "mimetype": "text/x-python",
   "name": "python",
   "nbconvert_exporter": "python",
   "pygments_lexer": "ipython3",
   "version": "3.7.3"
  }
 },
 "nbformat": 4,
 "nbformat_minor": 2
}
